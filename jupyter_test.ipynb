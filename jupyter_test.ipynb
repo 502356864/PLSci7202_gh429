{
 "cells": [
  {
   "cell_type": "code",
   "execution_count": 1,
   "metadata": {},
   "outputs": [
    {
     "name": "stdout",
     "output_type": "stream",
     "text": [
      "Plants are example.\n"
     ]
    }
   ],
   "source": [
    "print(\"Plants are example.\")"
   ]
  },
  {
   "cell_type": "markdown",
   "metadata": {},
   "source": [
    "Ginger is a plant"
   ]
  },
  {
   "cell_type": "markdown",
   "metadata": {},
   "source": [
    "# Header 1"
   ]
  },
  {
   "cell_type": "code",
   "execution_count": 2,
   "metadata": {},
   "outputs": [
    {
     "name": "stdout",
     "output_type": "stream",
     "text": [
      "Python is fun!\n"
     ]
    }
   ],
   "source": [
    "message = \"Python is fun!\"\n",
    "print(message)"
   ]
  },
  {
   "cell_type": "code",
   "execution_count": 3,
   "metadata": {},
   "outputs": [
    {
     "name": "stdout",
     "output_type": "stream",
     "text": [
      "Guoqing Hu\n"
     ]
    }
   ],
   "source": [
    "first_name = 'Guoqing'\n",
    "last_name = 'Hu'\n",
    "full_name = f\"{first_name} {last_name}\"\n",
    "print(full_name)"
   ]
  },
  {
   "cell_type": "code",
   "execution_count": 9,
   "metadata": {},
   "outputs": [
    {
     "name": "stdout",
     "output_type": "stream",
     "text": [
      ">Atha_AT1G51370.2\n",
      "MVGGKKKTKICDKVSHEEDRISQLPEPLISEILFHLSTKDSVRTSALSTKWRYLWQSVPGLDLDPYASSNTNTIVSFVES\n",
      "FFDSHRDSWIRKLRLDLGYHHDKYDLMSWIDAATTRRIQHLDVHCFHDNKIPLSIYTCTTLVHLRLRWAVLTNPEFVSLP\n",
      "CLKIMHFENVSYPNETTLQKLISGSPVLEELILFSTMYPKGNVLQLRSDTLKRLDINEFIDVVIYAPLLQCLRAKMYSTK\n",
      "NFQIISSGFPAKLDIDFVNTGGRYQKKKVIEDILIDISRVRDLVISSNTWKEFFLYSKSRPLLQFRYISHLNARFYISDL\n",
      "EMLPTLLESCPKLESLILVMSSFNPS\n",
      ">Atha_AT1G50920.1\n",
      "MVQYNFKRITVVPNGKEFVDIILSRTQRQTPTVVHKGYKINRLRQFYMRKVKYTQTNFHAKLSAIIDEFPRLEQIHPFYG\n",
      "DLLHVLYNKDHYKLALGQVNTARNLISKISKDYVKLLKYGDSLYRCKCLKVAALGRMCTVLKRITPSLAYLEQIRQHMAR\n",
      "LPSIDPNTRTVLICGYPNVGKSSFMNKVTRADVDVQPYAFTTKSLFVGHTDYKYLRYQVIDTPGILDRPFEDRNIIEMCS\n",
      "ITALAHLRAAVLFFLDISGSCGYTIAQQAALFHSIKSLFMNKPLVIVCNKTDLMPMENISEEDRKLIEEMKSEAMKTAMG\n",
      "ASEEQVLLKMSTLTDEGVMSVKNAACERLLDQRVEAKMKSKKINDHLNRFHVAIPKPRDSIERLPCIPQVVLEAKAKEAA\n",
      "AMEKRKTEKDLEEENGGAGVYSASLKKNYILQHDEWKEDIMPEILDGHNVADFIDPDILQRLAELEREEGIREAGVEEAD\n",
      "MEMDIEKLSDEQLKQLSEIRKKKAILIKNHRLKKTVAQNRSTVPRKFDKDKKYTTKRMGRELSAMGLDPSSAMDRARSKS\n",
      "RGRKRDRSEDAGNDAMDVDDEQQSNKKQRVRSKSRAMSISRSQSRPPAHEVVPGEGFKDSTQKLSAIKISNKSHKKRDKN\n",
      "ARRGEADRVIPTLRPKHLFSGKRGKGKTDRR\n",
      ">Atha_AT1G36960.1\n",
      "MTRLLPYKGGDFLGPDFLTFIDLCVQVRGIPLPYLSELTVSFIAGTLGPILEMEFNQDTSTYVAFIRVKIRLVFIDRLRF\n",
      "FRREEAAASNTITDQTHMTSSNSSDISPASPISQPPLPASLPSHDSYFDAGIQASRLVNPRAISQHHFSSSYSDFKGKEK\n",
      "AKIKIGECSKRKKDKQVDSGT\n",
      ">Atha_AT1G44020.1\n",
      "MDSESESKLISFISQLVSRNNTDSENISCMIQTISLVSSMDLKSQPKPESKLMSLVTQTISLFNSMDLSSQPEPLRKLIS\n",
      "LIIEKLSHLNSVDSDYEPKPDSEFMSTFYETYKLQPRPEIISIIHQIYSLFISTDTNKVITLVRSLDLDYSEPEPESEFI\n",
      "SVVAVVKQIMSFANSISNSEPEWQFISSMTEMIRLISSIDLEPEWEPPMQLVALFTHTFSLLYYLDRDSELYTLIAQIIF\n",
      "IIDYTDSEPESEWGLDQLMSLSPQWKVQLVQGKFHVTGKIERKNKEKGKCQPENRHRLYLAKGEEASHFICKDCNGEDHI\n",
      "ECEKTPVEVKHLLHPKHSLQLVSQKSSIIQTRKCFCCDEDLKKIFYYCTGCDYDMNIACAEKPPVLFIDRPKWHADTLAL\n",
      "FQRQAFLTCNVCAVADSSSPIYMCPPCDFVVHQRCTGLPRVIRISRHRHRISFTTSFDEGDWSCGVCRRKIDNDYGGFSC\n",
      "IKDGCSYAAHSRCATQKNVWDGIDLEGVPEEIEEEEVEPFVTISKGVIHHFSHQNHHLRLDENRDRIYDENKLCQACIMP\n",
      "IYFGNFFSCMQCDYILQ\n",
      "\n"
     ]
    }
   ],
   "source": [
    "fasta_file = open(\"/home/bioinfo/Desktop/unix_data/sample1.fasta\",\"r\")\n",
    "if fasta_file.mode == \"r\":\n",
    "    contents = fasta_file.read()\n",
    "    outF = open(\"/home/bioinfo/Desktop/unix_data/test_out.fasta\",'w')\n",
    "    outF.write(contents)\n",
    "    print(contents)\n",
    "fasta_file.close()"
   ]
  }
 ],
 "metadata": {
  "kernelspec": {
   "display_name": "Python 3",
   "language": "python",
   "name": "python3"
  },
  "language_info": {
   "codemirror_mode": {
    "name": "ipython",
    "version": 3
   },
   "file_extension": ".py",
   "mimetype": "text/x-python",
   "name": "python",
   "nbconvert_exporter": "python",
   "pygments_lexer": "ipython3",
   "version": "3.8.3"
  }
 },
 "nbformat": 4,
 "nbformat_minor": 4
}
